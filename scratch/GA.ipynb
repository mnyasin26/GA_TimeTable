{
 "cells": [
  {
   "cell_type": "code",
   "execution_count": null,
   "metadata": {},
   "outputs": [],
   "source": [
    "# TODO Bikin gen yang isinya random (99%)\n",
    "# TODO Fitness/Cost Function (95%)\n",
    "# TODO Generate Population (100%)\n",
    "# TODO Selection (70%)\n",
    "# TODO Crossover\n",
    "# TODO Mutation\n",
    "# TODO reassign population (eliminate weak gen/kromosom/individu)\n",
    "# TODO Main Looping and Termination\n",
    "# TODO Logging\n",
    "# TODO Finalization\n",
    "# TODO Develop Website\n",
    "# TODO Deploy Website"
   ]
  },
  {
   "cell_type": "code",
   "execution_count": 58,
   "metadata": {},
   "outputs": [],
   "source": [
    "import json\n",
    "import random\n",
    "\n",
    "\n",
    "input_file = 'input.json'\n",
    "output_file = 'classes/output3.json'\n",
    "\n",
    "# Baca data json \n",
    "def load_data(path):\n",
    "    with open(path, 'r') as read_file:\n",
    "        data = json.load(read_file)\n",
    "\n",
    "    return data\n",
    "\n",
    "# Masukan data json ke variabel\n",
    "test = load_data(input_file)"
   ]
  },
  {
   "cell_type": "code",
   "execution_count": null,
   "metadata": {},
   "outputs": [],
   "source": []
  },
  {
   "cell_type": "code",
   "execution_count": 59,
   "metadata": {},
   "outputs": [
    {
     "name": "stdout",
     "output_type": "stream",
     "text": [
      "[{'Mapel': 'Pendidikan Agama dan Budi Pekerti', 'Alokasi_Jam': '3', 'ID': '1'}, {'Mapel': 'Pendidikan Pancasila dan Kewarganegaraan', 'ID': '2', 'Alokasi_Jam': '3'}, {'Mapel': 'Bahasa Indonesia', 'ID': '3', 'Alokasi_Jam': '3'}, {'Mapel': 'Bahasa Indonesia', 'ID': '4', 'Alokasi_Jam': '3'}, {'Mapel': 'Matematika', 'ID': '5', 'Alokasi_Jam': '3'}, {'Mapel': 'Matematika', 'ID': '6', 'Alokasi_Jam': '2'}, {'Mapel': 'Ilmu Pengetahuan Alam', 'ID': '7', 'Alokasi_Jam': '3'}, {'Mapel': 'Ilmu Pengetahuan Alam', 'ID': '8', 'Alokasi_Jam': '2'}, {'Mapel': 'Ilmu Pengetahuan Sosial', 'ID': '9', 'Alokasi_Jam': '2'}, {'Mapel': 'Ilmu Pengetahuan Sosial', 'ID': '10', 'Alokasi_Jam': '2'}, {'Mapel': 'Bahasa Inggris', 'ID': '11', 'Alokasi_Jam': '2'}, {'Mapel': 'Bahasa Inggris', 'ID': '12', 'Alokasi_Jam': '2'}, {'Mapel': 'Seni Budaya', 'ID': '13', 'Alokasi_Jam': '3'}, {'Mapel': 'Pendidikan Jasmani, Olah Raga, dan Kesehatan', 'ID': '14', 'Alokasi_Jam': '3'}, {'Mapel': 'Prakarya', 'ID': '15', 'Alokasi_Jam': '2'}]\n"
     ]
    }
   ],
   "source": [
    "# Test data, sudah masuk atau tidak\n",
    "# print(test['Waktu']['Senin'])\n",
    "print(test['List_Mapel'])"
   ]
  },
  {
   "cell_type": "code",
   "execution_count": 60,
   "metadata": {},
   "outputs": [
    {
     "name": "stdout",
     "output_type": "stream",
     "text": [
      "{'Mapel': 'Matematika', 'ID': '8'}\n",
      "Candrakanta Tampubolon\n"
     ]
    }
   ],
   "source": [
    "# Fungsi mengambil satu buah elemen random dari sebuah list\n",
    "def randomizer(source: list):\n",
    "    temp = source[random.randrange(0, len(source))]\n",
    "    return temp\n",
    "\n",
    "\n",
    "# Test fungsi\n",
    "keys_for_slicing = [\"Mapel\", \"ID\"]\n",
    "rand_mapel = {key: randomizer(test['List_Mapel'])[key] for key in keys_for_slicing}\n",
    "rand_guru = randomizer(test['Guru'])\n",
    "print(rand_mapel)\n",
    "print(rand_guru)\n"
   ]
  },
  {
   "cell_type": "code",
   "execution_count": null,
   "metadata": {},
   "outputs": [],
   "source": [
    "for angkatan in test['Kelas']:\n",
    "    print(angkatan)\n"
   ]
  },
  {
   "cell_type": "code",
   "execution_count": 61,
   "metadata": {},
   "outputs": [],
   "source": [
    "def generate_gen():\n",
    "    # Generate sebuah gen/kromosom/individu, lalu simpan ke space\n",
    "    space = {}\n",
    "\n",
    "    for angkatan in test['Kelas']:\n",
    "        kelas_temp = {}\n",
    "        for kelas in test['Kelas'][angkatan]:\n",
    "            hari_temp = {}\n",
    "            for hari in test['Waktu']:\n",
    "                alokasi_waktu = 0\n",
    "                jam_temp = {}\n",
    "                for jam in test['Waktu'][hari]:\n",
    "                    if (alokasi_waktu == 0):\n",
    "                        temp_mapel = randomizer(test['List_Mapel'])\n",
    "                        temp_guru = randomizer(test['Guru'])\n",
    "                        alokasi_waktu = int(temp_mapel['Alokasi_Jam'])\n",
    "                    tempat_jam = {}\n",
    "                    tempat_jam['Mapel'] = temp_mapel['Mapel']\n",
    "                    tempat_jam['ID'] = temp_mapel['ID']\n",
    "                    tempat_jam['Guru'] = temp_guru\n",
    "                    jam_temp[jam] = tempat_jam\n",
    "                    alokasi_waktu = alokasi_waktu - 1\n",
    "                hari_temp[hari] = jam_temp\n",
    "            kelas_temp[kelas] = hari_temp\n",
    "        space[angkatan] = kelas_temp\n",
    "\n",
    "    return space"
   ]
  },
  {
   "cell_type": "code",
   "execution_count": null,
   "metadata": {},
   "outputs": [],
   "source": [
    "space = generate_gen()\n",
    "space"
   ]
  },
  {
   "cell_type": "code",
   "execution_count": null,
   "metadata": {},
   "outputs": [],
   "source": [
    "guru = {test['Guru'][i]: {'Mapel':[],'Slot_waktu':[]} for i in range(0, len(test['Guru']))}\n",
    "\n",
    "print(guru)\n",
    "slot_waktu = {}\n",
    "for slot_jam in test['Waktu']['Senin']:\n",
    "    slot_waktu[slot_jam] = []\n",
    "\n"
   ]
  },
  {
   "cell_type": "code",
   "execution_count": 62,
   "metadata": {},
   "outputs": [],
   "source": [
    "# Cost Function\n",
    "def cost_function(gen):\n",
    "    cost = 0\n",
    "\n",
    "    guru = {test['Guru'][i]: {'Mapel':[],'Slot_waktu':[]} for i in range(0, len(test['Guru']))}\n",
    "\n",
    "    for angkatan in gen:\n",
    "        for kelas in gen[angkatan]:\n",
    "            for hari in gen[angkatan][kelas]:\n",
    "                \n",
    "                mapel_sehari = {}\n",
    "                mapel_sehari['Mapel'] = []\n",
    "                mapel_sehari['Total_Jam'] = []\n",
    "                mapel_sehari['Mapel'].append(\n",
    "                    gen[angkatan][kelas][hari]['7:00 - 7:40']['ID'])\n",
    "                mapel_sehari['Total_Jam'].append(0)\n",
    "                counter = 0\n",
    "\n",
    "                counter_jam = 0\n",
    "                for jam in gen[angkatan][kelas][hari]:\n",
    "                    \n",
    "                    # Koneksi guru ke mapel\n",
    "                    if gen[angkatan][kelas][hari][jam]['ID'] not in guru[gen[angkatan][kelas][hari][jam]['Guru']]['Mapel']:\n",
    "                        guru[gen[angkatan][kelas][hari][jam]['Guru']]['Mapel'].append(gen[angkatan][kelas][hari][jam]['ID'])\n",
    "\n",
    "                    # Masukkan slot waktu tiap guru\n",
    "                    guru[gen[angkatan][kelas][hari][jam]['Guru']]['Slot_waktu'].append(jam)\n",
    "                    \n",
    "                    # Mapel sehari ada apa aja ngitung total jam mapel\n",
    "                    if mapel_sehari['Mapel'][counter] != gen[angkatan][kelas][hari][jam]['ID']:\n",
    "                        mapel_sehari['Mapel'].append(gen[angkatan][kelas][hari][jam]['ID'])\n",
    "                        mapel_sehari['Total_Jam'].append(1)\n",
    "                        counter += 1\n",
    "                    else:\n",
    "                        mapel_sehari['Total_Jam'][counter] += 1\n",
    "                        continue\n",
    "                    \n",
    "                # Jika ada mapel hanya satu jam pada satu hari (+1)\n",
    "                if 1 in mapel_sehari['Total_Jam']:\n",
    "                    cost += 1\n",
    "\n",
    "                # Jika ada Mapel yang sama di satu hari (+1)\n",
    "                result = dict((i, mapel_sehari['Mapel'].count(i)) for i in mapel_sehari['Mapel'])\n",
    "                if len(result) < len(mapel_sehari['Mapel']):\n",
    "                    cost += 1\n",
    "\n",
    "    for j in guru:\n",
    "        \n",
    "        # Jika ada Guru yang sama di slot waktu yang sama disetiap hari (irisan) (+1)\n",
    "        result = dict((i, guru[j]['Slot_waktu'].count(i)) for i in guru[j]['Slot_waktu'])\n",
    "        cost += len(guru[j]['Slot_waktu']) - len(result)\n",
    "        \n",
    "        # Jika Guru Memegang lebih dari 4 mapel (+1)\n",
    "        if len(guru[j]['Mapel']) > 4:\n",
    "            cost += 1\n",
    "\n",
    "    # TODO\n",
    "    # Jika ada mapel yang sama di satu angkatan tapi beda guru (+1)\n",
    "    \n",
    "    return cost\n"
   ]
  },
  {
   "cell_type": "code",
   "execution_count": 63,
   "metadata": {},
   "outputs": [],
   "source": [
    "# Generate Population\n",
    "def generate_population(num_gen: int):\n",
    "    population = []\n",
    "    for i in range(0, num_gen):\n",
    "        gen = {}\n",
    "        # space = generate_gen()\n",
    "        gen['Timetable'] = generate_gen()\n",
    "        gen['Cost'] = cost_function(gen['Timetable'])\n",
    "        population.append(gen)\n",
    "    return population\n",
    "\n",
    "# print(max(hasil))\n",
    "# print(population)\n"
   ]
  },
  {
   "cell_type": "code",
   "execution_count": 173,
   "metadata": {},
   "outputs": [
    {
     "name": "stdout",
     "output_type": "stream",
     "text": [
      "{0: 951, 1: 926, 2: 914, 3: 934}\n",
      "2\n",
      "{0: 951, 1: 926, 2: 934}\n",
      "1\n",
      "914\n",
      "926\n"
     ]
    }
   ],
   "source": [
    "# Selection\n",
    "temp = generate_population(4)\n",
    "\n",
    "temp2 = {}\n",
    "# temp\n",
    "for i in range(0, len(temp)):\n",
    "    temp2[i] = temp[i]['Cost']\n",
    "    # print(temp[i]['Cost'])\n",
    "\n",
    "# min(temp2, key=d.get)\n",
    "print(temp2)\n",
    "index = min(temp2, key=temp2.get)\n",
    "print(index)\n",
    "parent1 = temp[index]\n",
    "# print(parent1)\n",
    "temp.pop(index)\n",
    "\n",
    "temp2 = {}\n",
    "# temp\n",
    "for i in range(0, len(temp)):\n",
    "    temp2[i] = temp[i]['Cost']\n",
    "    # print(temp[i]['Cost'])\n",
    "print(temp2)\n",
    "index = min(temp2, key=temp2.get)\n",
    "print(index)\n",
    "parent2 = temp[index]\n",
    "\n",
    "print(parent1['Cost'])\n",
    "print(parent2['Cost'])\n"
   ]
  },
  {
   "cell_type": "code",
   "execution_count": null,
   "metadata": {},
   "outputs": [],
   "source": [
    "print(cost_function(space))\n"
   ]
  },
  {
   "cell_type": "code",
   "execution_count": null,
   "metadata": {},
   "outputs": [],
   "source": [
    "cost"
   ]
  },
  {
   "cell_type": "code",
   "execution_count": null,
   "metadata": {},
   "outputs": [],
   "source": [
    "\n",
    "# Test modifikasi data pada sebuah gen/kromosom/individu\n",
    "\n",
    "print(space['VII']['A']['Senin']['7:00 - 7:40'])\n",
    "\n",
    "space['VII']['A']['Senin']['7:00 - 7:40']['Guru'] = 'Yayat'\n",
    "space['VII']['A']['Senin']['7:00 - 7:40']['Mapel'] = 'PKN'\n",
    "print(space['VII']['A']['Senin']['7:00 - 7:40'])\n",
    "\n",
    "# mapel indo\n",
    "{0, 1, 2}\n",
    "\n"
   ]
  },
  {
   "cell_type": "code",
   "execution_count": null,
   "metadata": {},
   "outputs": [],
   "source": [
    "# Fungsi untuk menulis hasil solusi/gen/kromosom/individu ke file\n",
    "def write_data(data, path):\n",
    "    with open(path, 'w') as write_file:\n",
    "        json.dump(data, write_file, indent=4)"
   ]
  },
  {
   "cell_type": "code",
   "execution_count": null,
   "metadata": {},
   "outputs": [],
   "source": [
    "write_data(generate_population(4), 'output_random.json')\n"
   ]
  },
  {
   "cell_type": "code",
   "execution_count": null,
   "metadata": {},
   "outputs": [],
   "source": [
    "# Testing only\n",
    "hasil = []\n",
    "for i in range(0,2000):\n",
    "    space = generate_gen()\n",
    "    hasil.append(cost_function(space))\n",
    "\n",
    "print(max(hasil))\n",
    "\n"
   ]
  },
  {
   "cell_type": "code",
   "execution_count": null,
   "metadata": {},
   "outputs": [],
   "source": [
    "# Testing only\n",
    "for i in range(0,2000):\n",
    "    space = generate_gen()\n",
    "    guru = {test['Guru'][i]: {'Mapel':[],'Slot_waktu':[]} for i in range(0, len(test['Guru']))}\n",
    "\n",
    "    slot_waktu = {}\n",
    "    for slot_jam in test['Waktu']['Senin']:\n",
    "        slot_waktu[slot_jam] = []\n",
    "\n",
    "    # Cost Function\n",
    "    cost = 0\n",
    "\n",
    "    for angkatan in space:\n",
    "        for kelas in space[angkatan]:\n",
    "            for hari in space[angkatan][kelas]:\n",
    "                \n",
    "                mapel_sehari = {}\n",
    "                mapel_sehari['Mapel'] = []\n",
    "                mapel_sehari['Total_Jam'] = []\n",
    "                mapel_sehari['Mapel'].append(\n",
    "                    space[angkatan][kelas][hari]['7:00 - 7:40']['ID'])\n",
    "                mapel_sehari['Total_Jam'].append(0)\n",
    "                counter = 0\n",
    "\n",
    "                counter_jam = 0\n",
    "                for jam in space[angkatan][kelas][hari]:\n",
    "                    # slot_waktu[jam].append(space[angkatan][kelas][hari][jam]['Guru'])\n",
    "                    \n",
    "                    # Koneksi guru ke mapel\n",
    "                    if space[angkatan][kelas][hari][jam]['ID'] not in guru[space[angkatan][kelas][hari][jam]['Guru']]['Mapel']:\n",
    "                        guru[space[angkatan][kelas][hari][jam]['Guru']]['Mapel'].append(space[angkatan][kelas][hari][jam]['ID'])\n",
    "                    \n",
    "                    # print(jam)\n",
    "                    guru[space[angkatan][kelas][hari][jam]['Guru']]['Slot_waktu'].append(jam)\n",
    "                    \n",
    "                    # Mapel sehari ada apa aja ngitung total jam mapel\n",
    "                    if mapel_sehari['Mapel'][counter] != space[angkatan][kelas][hari][jam]['ID']:\n",
    "                        mapel_sehari['Mapel'].append(space[angkatan][kelas][hari][jam]['ID'])\n",
    "                        mapel_sehari['Total_Jam'].append(1)\n",
    "                        counter += 1\n",
    "                    else:\n",
    "                        mapel_sehari['Total_Jam'][counter] += 1\n",
    "                        continue\n",
    "                    \n",
    "                # Jika ada mapel hanya satu jam pada satu hari (+1)\n",
    "                # print(guru)\n",
    "                # print(mapel_sehari)\n",
    "                if 1 in mapel_sehari['Total_Jam']:\n",
    "                    cost += 1\n",
    "\n",
    "                # Jika ada Mapel yang sama di satu hari (+1)\n",
    "                result = dict((i, mapel_sehari['Mapel'].count(i)) for i in mapel_sehari['Mapel'])\n",
    "                # print(result)\n",
    "                if len(result) < len(mapel_sehari['Mapel']):\n",
    "                    cost += 1\n",
    "\n",
    "    # Jika Guru Memegang lebih dari 4 mapel (+1)\n",
    "    # print(guru)\n",
    "    # print(guru['Sakura Pertiwi']['Slot_waktu'])\n",
    "    for j in guru:\n",
    "        # print(j)\n",
    "        # print(guru[j]['Slot_waktu'].count('7:00 - 7:40'))\n",
    "        result = dict((i, guru[j]['Slot_waktu'].count(i)) for i in guru[j]['Slot_waktu'])\n",
    "        # print(result)\n",
    "        cost += len(guru[j]['Slot_waktu']) - len(result)\n",
    "        # if len(result) < len(guru[j]['Slot_waktu']):\n",
    "        #     cost +\n",
    "\n",
    "\n",
    "        if len(guru[j]['Mapel']) > 4:\n",
    "            cost += 1\n",
    "        # print(guru[i])\n",
    "\n",
    "    # Jika ada Guru yang sama di slot waktu yang sama disetiap hari (irisan) (+1)\n",
    "    # for j in slot_waktu:\n",
    "    #     result = dict((i, slot_waktu[j].count(i)) for i in slot_waktu[j])\n",
    "    #     # print(result)\n",
    "    #     if len(result) < len(slot_waktu[j]):\n",
    "    #         cost += 1\n",
    "    #         # print(\"test\")\n",
    "    # Jika ada mapel yang sama di satu angkatan tapi beda guru (+1)\n",
    "\n",
    "    print(cost)\n"
   ]
  }
 ],
 "metadata": {
  "kernelspec": {
   "display_name": "Python 3.10.6 64-bit",
   "language": "python",
   "name": "python3"
  },
  "language_info": {
   "codemirror_mode": {
    "name": "ipython",
    "version": 3
   },
   "file_extension": ".py",
   "mimetype": "text/x-python",
   "name": "python",
   "nbconvert_exporter": "python",
   "pygments_lexer": "ipython3",
   "version": "3.10.6"
  },
  "orig_nbformat": 4,
  "vscode": {
   "interpreter": {
    "hash": "369f2c481f4da34e4445cda3fffd2e751bd1c4d706f27375911949ba6bb62e1c"
   }
  }
 },
 "nbformat": 4,
 "nbformat_minor": 2
}
