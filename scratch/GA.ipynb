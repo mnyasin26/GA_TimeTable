{
 "cells": [
  {
   "cell_type": "code",
   "execution_count": 75,
   "metadata": {},
   "outputs": [],
   "source": [
    "import json\n",
    "import random\n",
    "\n",
    "\n",
    "input_file = 'input.json'\n",
    "output_file = 'classes/output3.json'\n",
    "\n",
    "# Baca data json \n",
    "def load_data(path):\n",
    "    with open(path, 'r') as read_file:\n",
    "        data = json.load(read_file)\n",
    "\n",
    "    return data\n",
    "\n",
    "# Masukan data json ke variabel\n",
    "test = load_data(input_file)"
   ]
  },
  {
   "cell_type": "code",
   "execution_count": null,
   "metadata": {},
   "outputs": [],
   "source": []
  },
  {
   "cell_type": "code",
   "execution_count": null,
   "metadata": {},
   "outputs": [],
   "source": [
    "# Test data, sudah masuk atau tidak\n",
    "# print(test['Waktu']['Senin'])\n",
    "print(test['List_Mapel'])"
   ]
  },
  {
   "cell_type": "code",
   "execution_count": 76,
   "metadata": {},
   "outputs": [
    {
     "name": "stdout",
     "output_type": "stream",
     "text": [
      "{'Mapel': 'Pendidikan Agama dan Budi Pekerti', 'ID': '11'}\n",
      "Dagel Thamrin\n"
     ]
    }
   ],
   "source": [
    "# Fungsi mengambil satu buah elemen random dari sebuah list\n",
    "def randomizer(source: list):\n",
    "    temp = source[random.randrange(0, len(source))]\n",
    "    return temp\n",
    "\n",
    "\n",
    "# Test fungsi\n",
    "keys_for_slicing = [\"Mapel\", \"ID\"]\n",
    "rand_mapel = {key: randomizer(test['List_Mapel'])[key] for key in keys_for_slicing}\n",
    "rand_guru = randomizer(test['Guru'])\n",
    "print(rand_mapel)\n",
    "print(rand_guru)\n"
   ]
  },
  {
   "cell_type": "code",
   "execution_count": 3,
   "metadata": {},
   "outputs": [
    {
     "name": "stdout",
     "output_type": "stream",
     "text": [
      "VII\n",
      "VIII\n",
      "IX\n"
     ]
    }
   ],
   "source": [
    "for angkatan in test['Kelas']:\n",
    "    print(angkatan)\n"
   ]
  },
  {
   "cell_type": "code",
   "execution_count": 77,
   "metadata": {},
   "outputs": [],
   "source": [
    "def generate_gen():\n",
    "    # Generate sebuah gen/kromosom/individu, lalu simpan ke space\n",
    "    space = {}\n",
    "\n",
    "    \n",
    "    \n",
    "    # jam_temp = {}\n",
    "\n",
    "    for angkatan in test['Kelas']:\n",
    "        # print(angkatan)\n",
    "        kelas_temp = {}\n",
    "        for kelas in test['Kelas'][angkatan]:\n",
    "            # kelas_temp = kelas\n",
    "            # print(kelas)\n",
    "            hari_temp = {}\n",
    "            for hari in test['Waktu']:\n",
    "                # print(hari)\n",
    "                alokasi_waktu = 0\n",
    "                jam_temp = {}\n",
    "                for jam in test['Waktu'][hari]:\n",
    "                    if (alokasi_waktu == 0):\n",
    "                        temp_mapel = randomizer(test['List_Mapel'])\n",
    "                        temp_guru = randomizer(test['Guru'])\n",
    "                        alokasi_waktu = int(temp_mapel['Alokasi_Jam'])\n",
    "                        # print(temp_mapel)\n",
    "\n",
    "                    tempat_jam = {}\n",
    "                    tempat_jam['Mapel'] = temp_mapel['Mapel']\n",
    "                    tempat_jam['ID'] = temp_mapel['ID']\n",
    "                    tempat_jam['Guru'] = temp_guru\n",
    "\n",
    "                    jam_temp[jam] = tempat_jam\n",
    "                    # print(jam_temp)\n",
    "\n",
    "                    alokasi_waktu = alokasi_waktu - 1\n",
    "                    # space[angkatan][kelas][hari][jam] = tempat_jam\n",
    "                    # print(jam)\n",
    "\n",
    "                hari_temp[hari] = jam_temp\n",
    "            kelas_temp[kelas] = hari_temp\n",
    "        space[angkatan] = kelas_temp\n",
    "\n",
    "    return space\n",
    "        # print(space)\n"
   ]
  },
  {
   "cell_type": "code",
   "execution_count": 91,
   "metadata": {},
   "outputs": [],
   "source": [
    "space = generate_gen()"
   ]
  },
  {
   "cell_type": "code",
   "execution_count": 92,
   "metadata": {},
   "outputs": [
    {
     "name": "stdout",
     "output_type": "stream",
     "text": [
      "{'Sakura Pertiwi': [], 'Harjaya Tamba': [], 'Utama Wahyudin': [], 'Septi Astuti': [], 'Asirwanda Widodo': [], 'Gading Dabukke': [], 'Jatmiko Prayoga': [], 'Oman Mandala': [], 'Shakila Novitasari': [], 'Dadi Megantara': [], 'Talia Nuraini': [], 'Bakianto Mandala': [], 'Kemba Rajata': [], 'Fathonah Oktaviani': [], 'Cornelia Pudjiastuti': [], 'Talia Wijayanti': [], 'Ella Rahayu': [], 'Candrakanta Tampubolon': [], 'Azalea Riyanti': [], 'Warta Sitompul': [], 'Jamalia Nasyiah': [], 'Tina Aryani': [], 'Yani Handayani': [], 'Purwadi Sirait': [], 'Jane Handayani': [], 'Vanya Pratiwi': [], 'Lalita Oktaviani': [], 'Dagel Thamrin': [], 'Samiah Mandasari': [], 'Rini Aryani': [], 'Gada Tarihoran': [], 'Farah Wulandari': [], 'Elisa Hasanah': [], 'Taufan Hutapea': [], 'Emong Maryadi': [], 'Genta Hastuti': [], 'Embuh Saptono': [], 'Keisha Suryatmi': [], 'Ade Saefullah': [], 'Julia Fujiati': []}\n"
     ]
    }
   ],
   "source": [
    "guru = {test['Guru'][i]: [] for i in range(0, len(test['Guru']))}\n",
    "# print(guru[0])\n",
    "# guru[0] = {}\n",
    "# guru['Sakura Pertiwi'] = []\n",
    "# guru['Sakura Pertiwi'].append(1)\n",
    "# guru['Sakura Pertiwi'].append(2)\n",
    "# guru['Sakura Pertiwi'].append(3)\n",
    "# guru['Sakura Pertiwi'].append(4)\n",
    "# print(test['Guru'][0])\n",
    "print(guru)\n",
    "# guru.index('Sakura Pertiwi')"
   ]
  },
  {
   "cell_type": "code",
   "execution_count": 93,
   "metadata": {},
   "outputs": [
    {
     "name": "stdout",
     "output_type": "stream",
     "text": [
      "{'Sakura Pertiwi': ['6', '10', '5', '2', '7', '8', '4', '12', '15'], 'Harjaya Tamba': ['2', '13', '12', '4', '10', '7', '11', '1', '6'], 'Utama Wahyudin': ['8', '11', '10', '3', '9', '7', '15', '6', '2', '14', '5'], 'Septi Astuti': ['14', '11', '10', '9', '12', '13', '1', '8', '7'], 'Asirwanda Widodo': ['14', '2', '13', '11', '8', '9', '12', '10'], 'Gading Dabukke': ['2', '10', '15', '12', '6', '3', '4', '8', '9'], 'Jatmiko Prayoga': ['8', '10', '9', '14', '7', '12', '5', '3', '11', '4', '1', '15'], 'Oman Mandala': ['5', '3', '8', '1', '9', '13', '12'], 'Shakila Novitasari': ['2', '11', '1', '14', '6', '12', '15', '4', '5'], 'Dadi Megantara': ['6', '12', '2', '11', '3', '7', '10', '4', '15'], 'Talia Nuraini': ['7', '15', '13', '9', '6', '12', '2'], 'Bakianto Mandala': ['3', '5', '9', '6', '12', '7', '8', '2', '15', '14'], 'Kemba Rajata': ['3', '8', '9', '5', '2', '15', '1', '4'], 'Fathonah Oktaviani': ['6', '15', '13', '9', '7', '5', '3', '10'], 'Cornelia Pudjiastuti': ['2', '4', '12', '3', '5', '8', '10', '14', '11'], 'Talia Wijayanti': ['7', '15', '1', '5', '11', '10', '4'], 'Ella Rahayu': ['14', '9', '3', '2', '10', '8', '13', '4', '1'], 'Candrakanta Tampubolon': ['2', '3', '4', '6', '11', '15', '9', '7', '8'], 'Azalea Riyanti': ['2', '6', '14', '5', '7', '1', '11', '10'], 'Warta Sitompul': ['1', '14', '13', '12', '9', '11', '4'], 'Jamalia Nasyiah': ['8', '11', '6', '14', '4', '5', '15', '1', '13'], 'Tina Aryani': ['12', '6', '9', '11', '1', '4', '7'], 'Yani Handayani': ['2', '9', '13', '8', '15', '10'], 'Purwadi Sirait': ['3', '14', '2', '4', '9', '15', '8', '11', '12'], 'Jane Handayani': ['8', '12', '5', '9', '10', '7', '1', '13', '3'], 'Vanya Pratiwi': ['15', '8', '9', '13', '10', '6', '14', '5', '2', '3', '11'], 'Lalita Oktaviani': ['1', '5', '13', '10', '9', '14', '4', '8'], 'Dagel Thamrin': ['15', '7', '14', '6', '3', '11', '8', '9'], 'Samiah Mandasari': ['5', '13', '11', '6', '3', '14', '2'], 'Rini Aryani': ['1', '4', '15', '5', '8', '11', '13', '2'], 'Gada Tarihoran': ['4', '9', '3', '15', '1', '11', '7', '6', '13'], 'Farah Wulandari': ['8', '5', '11', '13', '12', '2', '10', '3'], 'Elisa Hasanah': ['10', '5', '3', '8', '1', '7', '4', '12', '9', '11', '14'], 'Taufan Hutapea': ['6', '9', '10', '11', '8', '3', '13'], 'Emong Maryadi': ['1', '5', '8', '3', '10', '9', '2', '11', '15'], 'Genta Hastuti': ['10', '5', '14'], 'Embuh Saptono': ['14', '10', '4', '12', '15', '3', '2', '13', '7'], 'Keisha Suryatmi': ['2', '9', '1', '15', '14', '7', '12', '11', '10', '13'], 'Ade Saefullah': ['2', '7', '9', '10', '6', '4'], 'Julia Fujiati': ['12', '14', '2', '13', '9', '6', '4']}\n"
     ]
    }
   ],
   "source": [
    "# Cost Function\n",
    "cost = 0\n",
    "\n",
    "for angkatan in space:\n",
    "    for kelas in space[angkatan]:\n",
    "        for hari in space[angkatan][kelas]:\n",
    "            \n",
    "            mapel_sehari = {}\n",
    "            mapel_sehari['Mapel'] = []\n",
    "            mapel_sehari['Total_Jam'] = []\n",
    "            mapel_sehari['Mapel'].append(\n",
    "                space[angkatan][kelas][hari]['7:00 - 7:40']['ID'])\n",
    "            mapel_sehari['Total_Jam'].append(0)\n",
    "            counter = 0\n",
    "\n",
    "            for jam in space[angkatan][kelas][hari]:\n",
    "                \n",
    "                if space[angkatan][kelas][hari][jam]['ID'] not in guru[space[angkatan][kelas][hari][jam]['Guru']]:\n",
    "                    guru[space[angkatan][kelas][hari][jam]['Guru']].append(space[angkatan][kelas][hari][jam]['ID'])\n",
    "                        \n",
    "                \n",
    "\n",
    "                if mapel_sehari['Mapel'][counter] != space[angkatan][kelas][hari][jam]['ID']:\n",
    "                    mapel_sehari['Mapel'].append(space[angkatan][kelas][hari][jam]['ID'])\n",
    "                    mapel_sehari['Total_Jam'].append(1)\n",
    "                    counter += 1\n",
    "                else:\n",
    "                    mapel_sehari['Total_Jam'][counter] += 1\n",
    "                    continue\n",
    "                \n",
    "            # Jika ada mapel hanya satu jam pada satu hari (+1)\n",
    "            # print(guru)\n",
    "            # print(mapel_sehari)\n",
    "            if 1 in mapel_sehari['Total_Jam']:\n",
    "                cost += 1\n",
    "\n",
    "            # Jika ada Mapel yang sama di satu hari (+1)\n",
    "            result = dict((i, mapel_sehari['Mapel'].count(i)) for i in mapel_sehari['Mapel'])\n",
    "            if len(result) < len(mapel_sehari['Mapel']):\n",
    "                cost += 1\n",
    "\n",
    "print(guru)    \n",
    "\n",
    "for i in guru:\n",
    "    if len(guru[i]) > 4:\n",
    "        cost += 1\n",
    "    # print(guru[i])\n",
    "\n",
    "# Jika ada Guru yang sama di slot waktu yang sama disetiap hari (+1)\n",
    "\n",
    "\n",
    "# Jika Guru Memegang lebih dari 2 mapel (+1)\n",
    "\n",
    "# Jika ada Mapel yang hanya 1 jam (+1)\n",
    "\n",
    "# Jika ada mapel yang lebih dari 4 jam dalam 1 rentang  (+1)\n",
    "\n",
    "# Jika ada mapel yang kurang dari 4 jam dalam satu rentang tetapi gurunya beda (+1)"
   ]
  },
  {
   "cell_type": "code",
   "execution_count": 94,
   "metadata": {},
   "outputs": [
    {
     "data": {
      "text/plain": [
       "111"
      ]
     },
     "execution_count": 94,
     "metadata": {},
     "output_type": "execute_result"
    }
   ],
   "source": [
    "cost"
   ]
  },
  {
   "cell_type": "code",
   "execution_count": null,
   "metadata": {},
   "outputs": [],
   "source": [
    "\n",
    "# Test modifikasi data pada sebuah gen/kromosom/individu\n",
    "\n",
    "print(space['VII']['A']['Senin']['7:00 - 7:40'])\n",
    "\n",
    "space['VII']['A']['Senin']['7:00 - 7:40']['Guru'] = 'Yayat'\n",
    "space['VII']['A']['Senin']['7:00 - 7:40']['Mapel'] = 'PKN'\n",
    "print(space['VII']['A']['Senin']['7:00 - 7:40'])\n",
    "\n",
    "# mapel indo\n",
    "{0, 1, 2}\n",
    "\n"
   ]
  },
  {
   "cell_type": "code",
   "execution_count": null,
   "metadata": {},
   "outputs": [],
   "source": [
    "# Fungsi untuk menulis hasil solusi/gen/kromosom/individu ke file\n",
    "def write_data(data, path):\n",
    "    with open(path, 'w') as write_file:\n",
    "        json.dump(data, write_file, indent=4)"
   ]
  },
  {
   "cell_type": "code",
   "execution_count": null,
   "metadata": {},
   "outputs": [],
   "source": [
    "write_data(space, 'output_random.json')\n"
   ]
  }
 ],
 "metadata": {
  "kernelspec": {
   "display_name": "Python 3.10.6 64-bit",
   "language": "python",
   "name": "python3"
  },
  "language_info": {
   "codemirror_mode": {
    "name": "ipython",
    "version": 3
   },
   "file_extension": ".py",
   "mimetype": "text/x-python",
   "name": "python",
   "nbconvert_exporter": "python",
   "pygments_lexer": "ipython3",
   "version": "3.10.6"
  },
  "orig_nbformat": 4,
  "vscode": {
   "interpreter": {
    "hash": "369f2c481f4da34e4445cda3fffd2e751bd1c4d706f27375911949ba6bb62e1c"
   }
  }
 },
 "nbformat": 4,
 "nbformat_minor": 2
}
